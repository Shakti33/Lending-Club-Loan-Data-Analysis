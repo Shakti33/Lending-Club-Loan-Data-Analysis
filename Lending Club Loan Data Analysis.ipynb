{
 "cells": [
  {
   "cell_type": "markdown",
   "id": "1a6cbbb2",
   "metadata": {},
   "source": [
    "##          Project : Lending Club Loan Data Analysis     \n",
    "###                                    by SHAKTI NATH SAINI"
   ]
  },
  {
   "cell_type": "markdown",
   "id": "departmental-ethics",
   "metadata": {},
   "source": [
    "## 1. Exploratory Data Analysis"
   ]
  },
  {
   "cell_type": "code",
   "execution_count": 252,
   "id": "spiritual-insulation",
   "metadata": {},
   "outputs": [],
   "source": [
    "####################################################################\n",
    "''' Step 0: Import all libraries'''\n",
    "####################################################################\n",
    "\n",
    "import pandas as pd\n",
    "import numpy as np\n",
    "import matplotlib.pyplot as plt\n",
    "import seaborn as sns\n",
    "from sklearn.preprocessing import StandardScaler\n",
    "from sklearn.model_selection import train_test_split\n",
    "import tensorflow as tf\n",
    "from sklearn.metrics import confusion_matrix\n",
    "from sklearn.metrics import classification_report\n",
    "\n",
    "import warnings\n",
    "\n",
    "warnings.filterwarnings('ignore')"
   ]
  },
  {
   "cell_type": "code",
   "execution_count": 253,
   "id": "treated-accommodation",
   "metadata": {},
   "outputs": [],
   "source": [
    "####################################################################\n",
    "'''Step 1: Load the data'''\n",
    "####################################################################\n",
    "\n",
    "data = pd.read_csv(r'C:\\Users\\Shakti\\Documents\\Python Scripts\\Projects\\Lending Club Loan Data Analysis\\loan_data.csv')"
   ]
  },
  {
   "cell_type": "code",
   "execution_count": 254,
   "id": "private-dietary",
   "metadata": {},
   "outputs": [
    {
     "data": {
      "text/plain": [
       "(9578, 14)"
      ]
     },
     "execution_count": 254,
     "metadata": {},
     "output_type": "execute_result"
    }
   ],
   "source": [
    "data.shape"
   ]
  },
  {
   "cell_type": "code",
   "execution_count": 255,
   "id": "solid-characterization",
   "metadata": {},
   "outputs": [
    {
     "data": {
      "text/html": [
       "<div>\n",
       "<style scoped>\n",
       "    .dataframe tbody tr th:only-of-type {\n",
       "        vertical-align: middle;\n",
       "    }\n",
       "\n",
       "    .dataframe tbody tr th {\n",
       "        vertical-align: top;\n",
       "    }\n",
       "\n",
       "    .dataframe thead th {\n",
       "        text-align: right;\n",
       "    }\n",
       "</style>\n",
       "<table border=\"1\" class=\"dataframe\">\n",
       "  <thead>\n",
       "    <tr style=\"text-align: right;\">\n",
       "      <th></th>\n",
       "      <th>credit.policy</th>\n",
       "      <th>purpose</th>\n",
       "      <th>int.rate</th>\n",
       "      <th>installment</th>\n",
       "      <th>log.annual.inc</th>\n",
       "      <th>dti</th>\n",
       "      <th>fico</th>\n",
       "      <th>days.with.cr.line</th>\n",
       "      <th>revol.bal</th>\n",
       "      <th>revol.util</th>\n",
       "      <th>inq.last.6mths</th>\n",
       "      <th>delinq.2yrs</th>\n",
       "      <th>pub.rec</th>\n",
       "      <th>not.fully.paid</th>\n",
       "    </tr>\n",
       "  </thead>\n",
       "  <tbody>\n",
       "    <tr>\n",
       "      <th>0</th>\n",
       "      <td>1</td>\n",
       "      <td>debt_consolidation</td>\n",
       "      <td>0.1189</td>\n",
       "      <td>829.10</td>\n",
       "      <td>11.350407</td>\n",
       "      <td>19.48</td>\n",
       "      <td>737</td>\n",
       "      <td>5639.958333</td>\n",
       "      <td>28854</td>\n",
       "      <td>52.1</td>\n",
       "      <td>0</td>\n",
       "      <td>0</td>\n",
       "      <td>0</td>\n",
       "      <td>0</td>\n",
       "    </tr>\n",
       "    <tr>\n",
       "      <th>1</th>\n",
       "      <td>1</td>\n",
       "      <td>credit_card</td>\n",
       "      <td>0.1071</td>\n",
       "      <td>228.22</td>\n",
       "      <td>11.082143</td>\n",
       "      <td>14.29</td>\n",
       "      <td>707</td>\n",
       "      <td>2760.000000</td>\n",
       "      <td>33623</td>\n",
       "      <td>76.7</td>\n",
       "      <td>0</td>\n",
       "      <td>0</td>\n",
       "      <td>0</td>\n",
       "      <td>0</td>\n",
       "    </tr>\n",
       "    <tr>\n",
       "      <th>2</th>\n",
       "      <td>1</td>\n",
       "      <td>debt_consolidation</td>\n",
       "      <td>0.1357</td>\n",
       "      <td>366.86</td>\n",
       "      <td>10.373491</td>\n",
       "      <td>11.63</td>\n",
       "      <td>682</td>\n",
       "      <td>4710.000000</td>\n",
       "      <td>3511</td>\n",
       "      <td>25.6</td>\n",
       "      <td>1</td>\n",
       "      <td>0</td>\n",
       "      <td>0</td>\n",
       "      <td>0</td>\n",
       "    </tr>\n",
       "    <tr>\n",
       "      <th>3</th>\n",
       "      <td>1</td>\n",
       "      <td>debt_consolidation</td>\n",
       "      <td>0.1008</td>\n",
       "      <td>162.34</td>\n",
       "      <td>11.350407</td>\n",
       "      <td>8.10</td>\n",
       "      <td>712</td>\n",
       "      <td>2699.958333</td>\n",
       "      <td>33667</td>\n",
       "      <td>73.2</td>\n",
       "      <td>1</td>\n",
       "      <td>0</td>\n",
       "      <td>0</td>\n",
       "      <td>0</td>\n",
       "    </tr>\n",
       "    <tr>\n",
       "      <th>4</th>\n",
       "      <td>1</td>\n",
       "      <td>credit_card</td>\n",
       "      <td>0.1426</td>\n",
       "      <td>102.92</td>\n",
       "      <td>11.299732</td>\n",
       "      <td>14.97</td>\n",
       "      <td>667</td>\n",
       "      <td>4066.000000</td>\n",
       "      <td>4740</td>\n",
       "      <td>39.5</td>\n",
       "      <td>0</td>\n",
       "      <td>1</td>\n",
       "      <td>0</td>\n",
       "      <td>0</td>\n",
       "    </tr>\n",
       "  </tbody>\n",
       "</table>\n",
       "</div>"
      ],
      "text/plain": [
       "   credit.policy             purpose  int.rate  installment  log.annual.inc  \\\n",
       "0              1  debt_consolidation    0.1189       829.10       11.350407   \n",
       "1              1         credit_card    0.1071       228.22       11.082143   \n",
       "2              1  debt_consolidation    0.1357       366.86       10.373491   \n",
       "3              1  debt_consolidation    0.1008       162.34       11.350407   \n",
       "4              1         credit_card    0.1426       102.92       11.299732   \n",
       "\n",
       "     dti  fico  days.with.cr.line  revol.bal  revol.util  inq.last.6mths  \\\n",
       "0  19.48   737        5639.958333      28854        52.1               0   \n",
       "1  14.29   707        2760.000000      33623        76.7               0   \n",
       "2  11.63   682        4710.000000       3511        25.6               1   \n",
       "3   8.10   712        2699.958333      33667        73.2               1   \n",
       "4  14.97   667        4066.000000       4740        39.5               0   \n",
       "\n",
       "   delinq.2yrs  pub.rec  not.fully.paid  \n",
       "0            0        0               0  \n",
       "1            0        0               0  \n",
       "2            0        0               0  \n",
       "3            0        0               0  \n",
       "4            1        0               0  "
      ]
     },
     "execution_count": 255,
     "metadata": {},
     "output_type": "execute_result"
    }
   ],
   "source": [
    "data.head()"
   ]
  },
  {
   "cell_type": "code",
   "execution_count": 256,
   "id": "dedicated-cream",
   "metadata": {},
   "outputs": [
    {
     "data": {
      "text/plain": [
       "credit.policy        0\n",
       "purpose              0\n",
       "int.rate             0\n",
       "installment          0\n",
       "log.annual.inc       0\n",
       "dti                  0\n",
       "fico                 0\n",
       "days.with.cr.line    0\n",
       "revol.bal            0\n",
       "revol.util           0\n",
       "inq.last.6mths       0\n",
       "delinq.2yrs          0\n",
       "pub.rec              0\n",
       "not.fully.paid       0\n",
       "dtype: int64"
      ]
     },
     "execution_count": 256,
     "metadata": {},
     "output_type": "execute_result"
    }
   ],
   "source": [
    "# Handling missing values\n",
    "\n",
    "data.isnull().sum()"
   ]
  },
  {
   "cell_type": "code",
   "execution_count": 257,
   "id": "ba767fb8",
   "metadata": {},
   "outputs": [],
   "source": [
    "#NO missing values"
   ]
  },
  {
   "cell_type": "markdown",
   "id": "russian-prospect",
   "metadata": {},
   "source": [
    "## 2: Exploratory data analysis of different factors of the dataset."
   ]
  },
  {
   "cell_type": "code",
   "execution_count": 258,
   "id": "lesbian-essence",
   "metadata": {},
   "outputs": [
    {
     "data": {
      "text/html": [
       "<div>\n",
       "<style scoped>\n",
       "    .dataframe tbody tr th:only-of-type {\n",
       "        vertical-align: middle;\n",
       "    }\n",
       "\n",
       "    .dataframe tbody tr th {\n",
       "        vertical-align: top;\n",
       "    }\n",
       "\n",
       "    .dataframe thead th {\n",
       "        text-align: right;\n",
       "    }\n",
       "</style>\n",
       "<table border=\"1\" class=\"dataframe\">\n",
       "  <thead>\n",
       "    <tr style=\"text-align: right;\">\n",
       "      <th></th>\n",
       "      <th>all_other</th>\n",
       "      <th>credit_card</th>\n",
       "      <th>debt_consolidation</th>\n",
       "      <th>educational</th>\n",
       "      <th>home_improvement</th>\n",
       "      <th>major_purchase</th>\n",
       "      <th>small_business</th>\n",
       "    </tr>\n",
       "  </thead>\n",
       "  <tbody>\n",
       "    <tr>\n",
       "      <th>0</th>\n",
       "      <td>0</td>\n",
       "      <td>0</td>\n",
       "      <td>1</td>\n",
       "      <td>0</td>\n",
       "      <td>0</td>\n",
       "      <td>0</td>\n",
       "      <td>0</td>\n",
       "    </tr>\n",
       "    <tr>\n",
       "      <th>1</th>\n",
       "      <td>0</td>\n",
       "      <td>1</td>\n",
       "      <td>0</td>\n",
       "      <td>0</td>\n",
       "      <td>0</td>\n",
       "      <td>0</td>\n",
       "      <td>0</td>\n",
       "    </tr>\n",
       "    <tr>\n",
       "      <th>2</th>\n",
       "      <td>0</td>\n",
       "      <td>0</td>\n",
       "      <td>1</td>\n",
       "      <td>0</td>\n",
       "      <td>0</td>\n",
       "      <td>0</td>\n",
       "      <td>0</td>\n",
       "    </tr>\n",
       "    <tr>\n",
       "      <th>3</th>\n",
       "      <td>0</td>\n",
       "      <td>0</td>\n",
       "      <td>1</td>\n",
       "      <td>0</td>\n",
       "      <td>0</td>\n",
       "      <td>0</td>\n",
       "      <td>0</td>\n",
       "    </tr>\n",
       "    <tr>\n",
       "      <th>4</th>\n",
       "      <td>0</td>\n",
       "      <td>1</td>\n",
       "      <td>0</td>\n",
       "      <td>0</td>\n",
       "      <td>0</td>\n",
       "      <td>0</td>\n",
       "      <td>0</td>\n",
       "    </tr>\n",
       "  </tbody>\n",
       "</table>\n",
       "</div>"
      ],
      "text/plain": [
       "   all_other  credit_card  debt_consolidation  educational  home_improvement  \\\n",
       "0          0            0                   1            0                 0   \n",
       "1          0            1                   0            0                 0   \n",
       "2          0            0                   1            0                 0   \n",
       "3          0            0                   1            0                 0   \n",
       "4          0            1                   0            0                 0   \n",
       "\n",
       "   major_purchase  small_business  \n",
       "0               0               0  \n",
       "1               0               0  \n",
       "2               0               0  \n",
       "3               0               0  \n",
       "4               0               0  "
      ]
     },
     "execution_count": 258,
     "metadata": {},
     "output_type": "execute_result"
    }
   ],
   "source": [
    "####################################################################\n",
    "'''Step 2: Handling Non-Numerical Values'''\n",
    "####################################################################\n",
    "\n",
    "dummy = pd.get_dummies(data['purpose'])\n",
    "dummy.head()"
   ]
  },
  {
   "cell_type": "code",
   "execution_count": 259,
   "id": "south-psychiatry",
   "metadata": {},
   "outputs": [],
   "source": [
    "####################################################################\n",
    "'''Step 3: Handling (droping) Categorical Columns'''\n",
    "####################################################################\n",
    "\n",
    "data.drop(['purpose'], axis=1, inplace=True)"
   ]
  },
  {
   "cell_type": "code",
   "execution_count": 260,
   "id": "reported-africa",
   "metadata": {},
   "outputs": [],
   "source": [
    "df = pd.concat([data, dummy], axis=1)"
   ]
  },
  {
   "cell_type": "code",
   "execution_count": 261,
   "id": "sought-journey",
   "metadata": {},
   "outputs": [
    {
     "data": {
      "text/html": [
       "<div>\n",
       "<style scoped>\n",
       "    .dataframe tbody tr th:only-of-type {\n",
       "        vertical-align: middle;\n",
       "    }\n",
       "\n",
       "    .dataframe tbody tr th {\n",
       "        vertical-align: top;\n",
       "    }\n",
       "\n",
       "    .dataframe thead th {\n",
       "        text-align: right;\n",
       "    }\n",
       "</style>\n",
       "<table border=\"1\" class=\"dataframe\">\n",
       "  <thead>\n",
       "    <tr style=\"text-align: right;\">\n",
       "      <th></th>\n",
       "      <th>credit.policy</th>\n",
       "      <th>int.rate</th>\n",
       "      <th>installment</th>\n",
       "      <th>log.annual.inc</th>\n",
       "      <th>dti</th>\n",
       "      <th>fico</th>\n",
       "      <th>days.with.cr.line</th>\n",
       "      <th>revol.bal</th>\n",
       "      <th>revol.util</th>\n",
       "      <th>inq.last.6mths</th>\n",
       "      <th>delinq.2yrs</th>\n",
       "      <th>pub.rec</th>\n",
       "      <th>not.fully.paid</th>\n",
       "      <th>all_other</th>\n",
       "      <th>credit_card</th>\n",
       "      <th>debt_consolidation</th>\n",
       "      <th>educational</th>\n",
       "      <th>home_improvement</th>\n",
       "      <th>major_purchase</th>\n",
       "      <th>small_business</th>\n",
       "    </tr>\n",
       "  </thead>\n",
       "  <tbody>\n",
       "    <tr>\n",
       "      <th>0</th>\n",
       "      <td>1</td>\n",
       "      <td>0.1189</td>\n",
       "      <td>829.10</td>\n",
       "      <td>11.350407</td>\n",
       "      <td>19.48</td>\n",
       "      <td>737</td>\n",
       "      <td>5639.958333</td>\n",
       "      <td>28854</td>\n",
       "      <td>52.1</td>\n",
       "      <td>0</td>\n",
       "      <td>0</td>\n",
       "      <td>0</td>\n",
       "      <td>0</td>\n",
       "      <td>0</td>\n",
       "      <td>0</td>\n",
       "      <td>1</td>\n",
       "      <td>0</td>\n",
       "      <td>0</td>\n",
       "      <td>0</td>\n",
       "      <td>0</td>\n",
       "    </tr>\n",
       "    <tr>\n",
       "      <th>1</th>\n",
       "      <td>1</td>\n",
       "      <td>0.1071</td>\n",
       "      <td>228.22</td>\n",
       "      <td>11.082143</td>\n",
       "      <td>14.29</td>\n",
       "      <td>707</td>\n",
       "      <td>2760.000000</td>\n",
       "      <td>33623</td>\n",
       "      <td>76.7</td>\n",
       "      <td>0</td>\n",
       "      <td>0</td>\n",
       "      <td>0</td>\n",
       "      <td>0</td>\n",
       "      <td>0</td>\n",
       "      <td>1</td>\n",
       "      <td>0</td>\n",
       "      <td>0</td>\n",
       "      <td>0</td>\n",
       "      <td>0</td>\n",
       "      <td>0</td>\n",
       "    </tr>\n",
       "    <tr>\n",
       "      <th>2</th>\n",
       "      <td>1</td>\n",
       "      <td>0.1357</td>\n",
       "      <td>366.86</td>\n",
       "      <td>10.373491</td>\n",
       "      <td>11.63</td>\n",
       "      <td>682</td>\n",
       "      <td>4710.000000</td>\n",
       "      <td>3511</td>\n",
       "      <td>25.6</td>\n",
       "      <td>1</td>\n",
       "      <td>0</td>\n",
       "      <td>0</td>\n",
       "      <td>0</td>\n",
       "      <td>0</td>\n",
       "      <td>0</td>\n",
       "      <td>1</td>\n",
       "      <td>0</td>\n",
       "      <td>0</td>\n",
       "      <td>0</td>\n",
       "      <td>0</td>\n",
       "    </tr>\n",
       "    <tr>\n",
       "      <th>3</th>\n",
       "      <td>1</td>\n",
       "      <td>0.1008</td>\n",
       "      <td>162.34</td>\n",
       "      <td>11.350407</td>\n",
       "      <td>8.10</td>\n",
       "      <td>712</td>\n",
       "      <td>2699.958333</td>\n",
       "      <td>33667</td>\n",
       "      <td>73.2</td>\n",
       "      <td>1</td>\n",
       "      <td>0</td>\n",
       "      <td>0</td>\n",
       "      <td>0</td>\n",
       "      <td>0</td>\n",
       "      <td>0</td>\n",
       "      <td>1</td>\n",
       "      <td>0</td>\n",
       "      <td>0</td>\n",
       "      <td>0</td>\n",
       "      <td>0</td>\n",
       "    </tr>\n",
       "    <tr>\n",
       "      <th>4</th>\n",
       "      <td>1</td>\n",
       "      <td>0.1426</td>\n",
       "      <td>102.92</td>\n",
       "      <td>11.299732</td>\n",
       "      <td>14.97</td>\n",
       "      <td>667</td>\n",
       "      <td>4066.000000</td>\n",
       "      <td>4740</td>\n",
       "      <td>39.5</td>\n",
       "      <td>0</td>\n",
       "      <td>1</td>\n",
       "      <td>0</td>\n",
       "      <td>0</td>\n",
       "      <td>0</td>\n",
       "      <td>1</td>\n",
       "      <td>0</td>\n",
       "      <td>0</td>\n",
       "      <td>0</td>\n",
       "      <td>0</td>\n",
       "      <td>0</td>\n",
       "    </tr>\n",
       "  </tbody>\n",
       "</table>\n",
       "</div>"
      ],
      "text/plain": [
       "   credit.policy  int.rate  installment  log.annual.inc    dti  fico  \\\n",
       "0              1    0.1189       829.10       11.350407  19.48   737   \n",
       "1              1    0.1071       228.22       11.082143  14.29   707   \n",
       "2              1    0.1357       366.86       10.373491  11.63   682   \n",
       "3              1    0.1008       162.34       11.350407   8.10   712   \n",
       "4              1    0.1426       102.92       11.299732  14.97   667   \n",
       "\n",
       "   days.with.cr.line  revol.bal  revol.util  inq.last.6mths  delinq.2yrs  \\\n",
       "0        5639.958333      28854        52.1               0            0   \n",
       "1        2760.000000      33623        76.7               0            0   \n",
       "2        4710.000000       3511        25.6               1            0   \n",
       "3        2699.958333      33667        73.2               1            0   \n",
       "4        4066.000000       4740        39.5               0            1   \n",
       "\n",
       "   pub.rec  not.fully.paid  all_other  credit_card  debt_consolidation  \\\n",
       "0        0               0          0            0                   1   \n",
       "1        0               0          0            1                   0   \n",
       "2        0               0          0            0                   1   \n",
       "3        0               0          0            0                   1   \n",
       "4        0               0          0            1                   0   \n",
       "\n",
       "   educational  home_improvement  major_purchase  small_business  \n",
       "0            0                 0               0               0  \n",
       "1            0                 0               0               0  \n",
       "2            0                 0               0               0  \n",
       "3            0                 0               0               0  \n",
       "4            0                 0               0               0  "
      ]
     },
     "execution_count": 261,
     "metadata": {},
     "output_type": "execute_result"
    }
   ],
   "source": [
    "df.head()"
   ]
  },
  {
   "cell_type": "code",
   "execution_count": 262,
   "id": "distant-integrity",
   "metadata": {},
   "outputs": [
    {
     "data": {
      "text/plain": [
       "(9578, 20)"
      ]
     },
     "execution_count": 262,
     "metadata": {},
     "output_type": "execute_result"
    }
   ],
   "source": [
    "df.shape"
   ]
  },
  {
   "cell_type": "code",
   "execution_count": 263,
   "id": "mental-deficit",
   "metadata": {},
   "outputs": [],
   "source": [
    "y = df['credit.policy']\n",
    "X = df.drop(['credit.policy'], axis=1)"
   ]
  },
  {
   "cell_type": "code",
   "execution_count": 264,
   "id": "hairy-stuff",
   "metadata": {},
   "outputs": [],
   "source": [
    "# Standardize features by removing the mean and scaling to unit variance\n",
    "\n",
    "scaler = StandardScaler()\n",
    "X_scaled = scaler.fit_transform(X)"
   ]
  },
  {
   "cell_type": "code",
   "execution_count": 265,
   "id": "measured-likelihood",
   "metadata": {},
   "outputs": [],
   "source": [
    "X_train, X_test, y_train, y_test = train_test_split(X_scaled, y, test_size=0.2, random_state=42)"
   ]
  },
  {
   "cell_type": "markdown",
   "id": "a24f3f42",
   "metadata": {},
   "source": [
    "## 3.     Additional Feature Engineering\n",
    "\n",
    "#### You will check the correlation between features and will drop those features which have a strong correlation\n",
    "\n",
    "#### This will help reduce the number of features and will leave you with the most relevant features"
   ]
  },
  {
   "cell_type": "code",
   "execution_count": 266,
   "id": "33d3ee71",
   "metadata": {},
   "outputs": [
    {
     "data": {
      "text/plain": [
       "1    0.80497\n",
       "0    0.19503\n",
       "Name: credit.policy, dtype: float64"
      ]
     },
     "execution_count": 266,
     "metadata": {},
     "output_type": "execute_result"
    }
   ],
   "source": [
    "# Check if the data is balanced\n",
    "\n",
    "data['credit.policy'].value_counts(normalize=True)"
   ]
  },
  {
   "cell_type": "code",
   "execution_count": 267,
   "id": "cf352515",
   "metadata": {},
   "outputs": [],
   "source": [
    "####################################################################\n",
    "'''Step 4: Check for Correlation'''\n",
    "####################################################################\n",
    "\n",
    "# Check for correlation between features\n",
    "\n",
    "corr_matrix = data.corr()\n",
    "\n",
    "high_corr = corr_matrix[corr_matrix>=0.5]"
   ]
  },
  {
   "cell_type": "code",
   "execution_count": 268,
   "id": "25f77269",
   "metadata": {},
   "outputs": [
    {
     "data": {
      "text/plain": [
       "<AxesSubplot:>"
      ]
     },
     "execution_count": 268,
     "metadata": {},
     "output_type": "execute_result"
    },
    {
     "data": {
      "image/png": "[encoded data removed]",
      "text/plain": [
       "<Figure size 864x720 with 2 Axes>"
      ]
     },
     "metadata": {
      "needs_background": "light"
     },
     "output_type": "display_data"
    }
   ],
   "source": [
    "plt.figure(figsize = (12,10))\n",
    "sns.heatmap(high_corr, cmap='gist_earth', annot=True, annot_kws={\"size\": 10})"
   ]
  },
  {
   "cell_type": "markdown",
   "id": "37cbe30a",
   "metadata": {},
   "source": [
    "Some of the features are correlated:\n",
    "* revol.util & int.rate\n",
    "* log.annual.inc & installment\n",
    "\n",
    "But since the correlation is less than 0.5, there is no need to drop any of them."
   ]
  },
  {
   "cell_type": "markdown",
   "id": "ecological-liability",
   "metadata": {},
   "source": [
    "## 4: Modelling\n",
    "\n",
    "#### After applying EDA and feature engineering, you are now ready to build the predictive models\n",
    "\n",
    "#### In this part, you will create a deep learning model using Keras with Tensorflow backend"
   ]
  },
  {
   "cell_type": "code",
   "execution_count": 269,
   "id": "casual-bundle",
   "metadata": {},
   "outputs": [],
   "source": [
    "####################################################################\n",
    "'''Step 5: Building the Network'''\n",
    "####################################################################\n",
    "\n",
    "initializer = tf.keras.initializers.GlorotNormal()\n",
    "\n",
    "model = tf.keras.models.Sequential()\n",
    "\n",
    "model.add(tf.keras.layers.Dropout(0.1))\n",
    "model.add(tf.keras.layers.Dense(units = 57 , activation= \"relu\", input_shape=(19,)))\n",
    "\n",
    "model.add(tf.keras.layers.Dropout(0.01))\n",
    "model.add(tf.keras.layers.Dense(units = 19 , activation= \"relu\"))\n",
    "\n",
    "model.add(tf.keras.layers.Dropout(0.01))\n",
    "model.add(tf.keras.layers.Dense(units = 19 , activation= \"relu\"))\n",
    "\n",
    "model.add(tf.keras.layers.Dropout(0.01))\n",
    "model.add(tf.keras.layers.Dense(units = 19 , activation= \"relu\"))\n",
    "\n",
    "model.add(tf.keras.layers.Dropout(0.01))\n",
    "model.add(tf.keras.layers.Dense(units = 1 , activation= \"sigmoid\"))"
   ]
  },
  {
   "cell_type": "code",
   "execution_count": 270,
   "id": "played-poultry",
   "metadata": {},
   "outputs": [],
   "source": [
    "####################################################################\n",
    "'''Step 6: Compiling the Model'''\n",
    "####################################################################\n",
    "\n",
    "model.compile(optimizer=tf.keras.optimizers.RMSprop(learning_rate=0.005),\n",
    "              loss=\"binary_crossentropy\",\n",
    "              metrics=[\"accuracy\"])"
   ]
  },
  {
   "cell_type": "code",
   "execution_count": 271,
   "id": "australian-comparative",
   "metadata": {},
   "outputs": [],
   "source": [
    "####################################################################\n",
    "'''Step 7: Early Stopping Condition'''\n",
    "####################################################################\n",
    "\n",
    "class MyThresholdCallback(tf.keras.callbacks.Callback):\n",
    "    def __init__(self,cl):\n",
    "        super(MyThresholdCallback,self).__init__()\n",
    "        self.cl=cl\n",
    "        \n",
    "    def on_epoch_end(self, epoch, logs=None):\n",
    "        testScore = logs['val_accuracy']\n",
    "        trainScore = logs['accuracy']\n",
    "        \n",
    "        if testScore > trainScore and testScore >= self.cl:\n",
    "            self.model.stop_training = True"
   ]
  },
  {
   "cell_type": "code",
   "execution_count": 272,
   "id": "advance-utility",
   "metadata": {},
   "outputs": [
    {
     "name": "stdout",
     "output_type": "stream",
     "text": [
      "Epoch 1/1000\n",
      "240/240 [==============================] - 2s 3ms/step - loss: 0.3051 - accuracy: 0.8807 - val_loss: 0.2626 - val_accuracy: 0.8909\n",
      "Epoch 2/1000\n",
      "240/240 [==============================] - 1s 2ms/step - loss: 0.2717 - accuracy: 0.8923 - val_loss: 0.2396 - val_accuracy: 0.8987\n",
      "Epoch 3/1000\n",
      "240/240 [==============================] - 1s 2ms/step - loss: 0.2486 - accuracy: 0.9042 - val_loss: 0.2119 - val_accuracy: 0.9175\n",
      "Epoch 4/1000\n",
      "240/240 [==============================] - 1s 2ms/step - loss: 0.2381 - accuracy: 0.9133 - val_loss: 0.2071 - val_accuracy: 0.9238\n",
      "Epoch 5/1000\n",
      "240/240 [==============================] - 1s 2ms/step - loss: 0.2331 - accuracy: 0.9126 - val_loss: 0.2004 - val_accuracy: 0.9264\n",
      "Epoch 6/1000\n",
      "240/240 [==============================] - 1s 2ms/step - loss: 0.2231 - accuracy: 0.9190 - val_loss: 0.1880 - val_accuracy: 0.9295\n",
      "Epoch 7/1000\n",
      "240/240 [==============================] - 1s 2ms/step - loss: 0.1969 - accuracy: 0.9304 - val_loss: 0.1808 - val_accuracy: 0.9332\n",
      "Epoch 8/1000\n",
      "240/240 [==============================] - 1s 2ms/step - loss: 0.1976 - accuracy: 0.9304 - val_loss: 0.1667 - val_accuracy: 0.9410\n",
      "Epoch 9/1000\n",
      "240/240 [==============================] - 1s 2ms/step - loss: 0.1949 - accuracy: 0.9323 - val_loss: 0.1756 - val_accuracy: 0.9379\n",
      "Epoch 10/1000\n",
      "240/240 [==============================] - 1s 2ms/step - loss: 0.1938 - accuracy: 0.9358 - val_loss: 0.1978 - val_accuracy: 0.9374\n",
      "Epoch 11/1000\n",
      "240/240 [==============================] - 1s 3ms/step - loss: 0.1871 - accuracy: 0.9392 - val_loss: 0.1581 - val_accuracy: 0.9426\n",
      "Epoch 12/1000\n",
      "240/240 [==============================] - 1s 2ms/step - loss: 0.1854 - accuracy: 0.9383 - val_loss: 0.1470 - val_accuracy: 0.9473\n",
      "Epoch 13/1000\n",
      "240/240 [==============================] - 1s 3ms/step - loss: 0.1773 - accuracy: 0.9415 - val_loss: 0.1659 - val_accuracy: 0.9436\n",
      "Epoch 14/1000\n",
      "240/240 [==============================] - 1s 2ms/step - loss: 0.1829 - accuracy: 0.9390 - val_loss: 0.1563 - val_accuracy: 0.9473\n",
      "Epoch 15/1000\n",
      "240/240 [==============================] - 1s 2ms/step - loss: 0.1791 - accuracy: 0.9422 - val_loss: 0.2048 - val_accuracy: 0.9337\n",
      "Epoch 16/1000\n",
      "240/240 [==============================] - 1s 2ms/step - loss: 0.1748 - accuracy: 0.9421 - val_loss: 0.1591 - val_accuracy: 0.9452\n",
      "Epoch 17/1000\n",
      "240/240 [==============================] - 1s 2ms/step - loss: 0.1628 - accuracy: 0.9478 - val_loss: 0.1601 - val_accuracy: 0.9478\n",
      "Epoch 18/1000\n",
      "240/240 [==============================] - 1s 2ms/step - loss: 0.1656 - accuracy: 0.9477 - val_loss: 0.1315 - val_accuracy: 0.9603\n"
     ]
    },
    {
     "data": {
      "text/plain": [
       "<tensorflow.python.keras.callbacks.History at 0x2b0f77651f0>"
      ]
     },
     "execution_count": 272,
     "metadata": {},
     "output_type": "execute_result"
    }
   ],
   "source": [
    "####################################################################\n",
    "'''Step 8: Fitting the Model'''\n",
    "####################################################################\n",
    "\n",
    "model.fit(X_train, y_train, epochs=1000, validation_data=(X_test,y_test), callbacks=[MyThresholdCallback(cl=0.95)])"
   ]
  },
  {
   "cell_type": "code",
   "execution_count": 273,
   "id": "false-cattle",
   "metadata": {
    "scrolled": true
   },
   "outputs": [
    {
     "name": "stdout",
     "output_type": "stream",
     "text": [
      "240/240 [==============================] - 0s 1ms/step - loss: 0.0990 - accuracy: 0.9692\n",
      "60/60 [==============================] - 0s 1ms/step - loss: 0.1315 - accuracy: 0.9603\n",
      "\n",
      "\n",
      "Training Score  0.9691986441612244 \n",
      "Testing Score   0.9603340029716492\n"
     ]
    }
   ],
   "source": [
    "####################################################################\n",
    "'''Step 9: Check for Generalization'''\n",
    "####################################################################\n",
    "\n",
    "print(\"\\n\\nTraining Score  {} \\nTesting Score   {}\".format(model.evaluate(X_train,y_train)[1],\n",
    "                                                            model.evaluate(X_test,y_test)[1]))"
   ]
  },
  {
   "cell_type": "code",
   "execution_count": 274,
   "id": "0302dbb0",
   "metadata": {},
   "outputs": [],
   "source": [
    "####################################################################\n",
    "'''Step 10: Prediction'''\n",
    "####################################################################\n",
    "\n",
    "y_pred = model.predict_classes(X_test)"
   ]
  },
  {
   "cell_type": "code",
   "execution_count": 275,
   "id": "ffdb5d9a",
   "metadata": {},
   "outputs": [
    {
     "name": "stdout",
     "output_type": "stream",
     "text": [
      "[[ 306   66]\n",
      " [  10 1534]]\n"
     ]
    }
   ],
   "source": [
    "# Confusion Matrix\n",
    "print(confusion_matrix(y_test, y_pred))"
   ]
  },
  {
   "cell_type": "code",
   "execution_count": 276,
   "id": "724971dd",
   "metadata": {},
   "outputs": [
    {
     "name": "stdout",
     "output_type": "stream",
     "text": [
      "              precision    recall  f1-score   support\n",
      "\n",
      "           0       0.97      0.82      0.89       372\n",
      "           1       0.96      0.99      0.98      1544\n",
      "\n",
      "    accuracy                           0.96      1916\n",
      "   macro avg       0.96      0.91      0.93      1916\n",
      "weighted avg       0.96      0.96      0.96      1916\n",
      "\n"
     ]
    }
   ],
   "source": [
    "print(classification_report(y_test, y_pred))"
   ]
  },
  {
   "cell_type": "code",
   "execution_count": 277,
   "id": "nominated-capability",
   "metadata": {},
   "outputs": [
    {
     "data": {
      "text/plain": [
       "'                          End                          '"
      ]
     },
     "execution_count": 277,
     "metadata": {},
     "output_type": "execute_result"
    }
   ],
   "source": [
    "####################################################################\n",
    "'''                          End                          '''\n",
    "####################################################################"
   ]
  }
 ],
 "metadata": {
  "kernelspec": {
   "display_name": "Python 3",
   "language": "python",
   "name": "python3"
  },
  "language_info": {
   "codemirror_mode": {
    "name": "ipython",
    "version": 3
   },
   "file_extension": ".py",
   "mimetype": "text/x-python",
   "name": "python",
   "nbconvert_exporter": "python",
   "pygments_lexer": "ipython3",
   "version": "3.8.8"
  }
 },
 "nbformat": 4,
 "nbformat_minor": 5
}
